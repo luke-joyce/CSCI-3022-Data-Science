{
 "cells": [
  {
   "cell_type": "markdown",
   "metadata": {},
   "source": [
    "## <a id='top'></a>\n",
    "\n",
    "# Homework 5: Bootstrap, Hypothesis Testing and Regression\n",
    "***\n",
    "\n",
    "**Name**: \n",
    "\n",
    "***\n",
    "\n",
    "This assignment is due on Canvas by **11:59 PM on Friday November 22**. Your solutions to theoretical questions should be done in Markdown/MathJax directly below the associated question.  Your solutions to computational questions should include any specified Python code and results as well as written commentary on your conclusions.  Remember that you are encouraged to discuss the problems with your instructors and classmates, but **you must write all code and solutions on your own**. \n",
    "\n",
    "**NOTES**: \n",
    "\n",
    "- Any relevant data sets should be available under the **Data** module on Canvas, as well as in the zipped folder in which you obtained this assignment. \n",
    "- Do **NOT** load or use any Python packages that are not available in Anaconda 3.6. \n",
    "- Because you can technically evaluate notebook cells in a non-linear order, it's a good idea to do Kernel $\\rightarrow$ Restart & Run All as a check before submitting your solutions.  That way if we need to run your code you will know that it will work as expected. \n",
    "- It is **bad form** to make your reader interpret numerical output from your code.  If a question asks you to compute some value from the data you should show your code output **AND** write a summary of the results in Markdown directly below your code. \n",
    "- You **MUST** leave all of your notebook cells **evaluated** so the graders do not need to re-evaluate them. For 100+ students, this extra time adds up, and makes the graders' lives unnecessarily more difficult.\n",
    "- This probably goes without saying, but... For any question that asks you to calculate something, you **must show all work and justify your answers to receive credit**. Sparse or nonexistent work will receive sparse or nonexistent credit. \n",
    "- Submit only this Jupyter notebook to Canvas.  Do not compress it using tar, rar, zip, etc. \n",
    "\n",
    "---\n",
    "**Shortcuts:**  [Problem 1](#p1) | [Problem 2](#p2) | [Problem 3](#p3) | [Problem 4](#p4) \n",
    "\n",
    "---"
   ]
  },
  {
   "cell_type": "code",
   "execution_count": 2,
   "metadata": {
    "scrolled": true
   },
   "outputs": [],
   "source": [
    "import numpy as np\n",
    "import matplotlib.pyplot as plt\n",
    "import pandas as pd\n",
    "from scipy import stats \n",
    "%matplotlib inline"
   ]
  },
  {
   "cell_type": "markdown",
   "metadata": {},
   "source": [
    "---\n",
    "[Back to top](#top)\n",
    "<a id='p1'></a>\n",
    "\n",
    "### [20 points] Problem 1 - Hypothesis Testing: Knowledge Check\n",
    "\n",
    "You are working as a Data Scientist for an internet company. Your co-worker, Bob Dob, is a lovable scamp! Unfortunately, he also makes a lot of mistakes throughout the day as the two of you team up to tackle some inference work regarding your company's customers. In each case, clearly explain why Bob's hypothesis testing setup or conclusion is incorrect."
   ]
  },
  {
   "cell_type": "markdown",
   "metadata": {},
   "source": [
    "**Part A**: Bob has some data on the characteristics of customers that visited the company's website over the previous month.  He wants to perform an analysis on the proportion of last month's website visitors that bought something.  \n",
    "\n",
    "Let $X$ be the random variable describing the number of website visitors who bought something in the previous month, and suppose that the population proportion of visitors who bought something is $p$. Bob is particularly interested to see if the data suggests that more than 15% of website visitors actually buy something.  He decides to perform the test with a null hypothesis of $H_0: \\hat{p} = 0.15$. \n",
    "\n",
    "***ANSWER:***\n",
    "\n",
    "$\\hat{p}$ is a predicted value forthe population proportion of vistors who bought something, while $p$ is the actual value. So in this case, the null hypothesis should be $H_0: p = 0.15$."
   ]
  },
  {
   "cell_type": "markdown",
   "metadata": {},
   "source": [
    "**Part B**: Bob decides instead to do his hypothesis test with a null hypothesis of $H_0: p > 0.15$.\n",
    "\n",
    "***ANSWER:***\n",
    "\n",
    "The null hypothesis should have an equivalence relation for the case where the percentage of users who actually buy something isn't greater than 15%, but is equal to it. The null hypothesis should also be the opposite.  So a better hypothesis could be:\n",
    "\n",
    "$H_0: p = 0.15$,\n",
    "\n",
    "or\n",
    "\n",
    "$H_0: p \\le 0.15$"
   ]
  },
  {
   "cell_type": "markdown",
   "metadata": {},
   "source": [
    "**Part C**: Finally on track with reasonable hypotheses of $H_0: p = 0.15$ and $H_1: p > 0.15$, Bob computes a normalized test-statistic of $z = -1.4$ for the sample proportion and concludes that since $z = -1.4 < 0.05$ there is sufficient statistical evidence at the $\\alpha = 0.05$ (95%) significance level that the proportion of customers who buy something is less than 15%.\n",
    "\n",
    "***ANSWER:***\n",
    "\n",
    "In order to find out if there is sufficient statistical evidence at a certain significance level, one must calculate a p-value based on the test-statistic, which is $z = -1.4$ in this case. From there, compare the calculated p-value and the significance level ($\\alpha = 0.05$)."
   ]
  },
  {
   "cell_type": "markdown",
   "metadata": {},
   "source": [
    "**Part D**: Bob is again conducting the hypothesis test of $H_0: p = 0.15$ and $H_1: p > 0.15$. He computes a p-value of $0.03$, and thus concludes that there is only a 3% probability that the null hypothesis is true. \n",
    "\n",
    "***ANSWER:***\n",
    "\n",
    "The claculated p-value does not give us a numerical value for the probability of the null hypothesis being true. It should be used to compare against significance levels to see if we do or do not have enough statistical evidence that a hypothesis is true."
   ]
  },
  {
   "cell_type": "markdown",
   "metadata": {},
   "source": [
    "---\n",
    "[Back to top](#top)\n",
    "<a id='p3'></a>\n",
    "\n",
    "### [25 points] Problem 2 - Naps vs Coffee for Memory? \n",
    "\n",
    "It is estimated that [about 75% of adults](https://www.ncbi.nlm.nih.gov/pmc/articles/PMC4997286/) in the United States drink coffee. Often, coffee is used to replace the need for sleep. It works alright, or so we think. Let's find out, in this exciting homework problem!\n",
    "\n",
    "[One recent study](https://www.sciencedirect.com/science/article/pii/S1388245703002554) investigated the effects of drinking coffee, taking a nap, and having a [\"coffee-nap\"](https://lifehacker.com/naps-vs-coffee-which-is-better-when-youre-exhausted-1730643671) - the practice of drinking some coffee *and then* having a short nap. The study broke participants up into three groups of 15 participants each, where the groups would have a nap, or have a coffee, or have a coffee-nap, then perform a task where their reaction time was measured. In previous experiments the mean reaction time measurement was found to be normally distributed. The reaction time means (milliseconds, ms) and standard deviations for the three groups of participants are given in the table below.\n",
    "\n",
    "$$\n",
    "\\begin{array}{c|c|c|c}\n",
    "\\textrm{Group} & \\textrm{Sample Size} & \\textrm{Mean} & \\textrm{Standard Deviation} \\\\\n",
    "\\hline \n",
    "\\textrm{Coffee+Nap} & 15 & 451.3 & 31.9 \\\\ \n",
    "\\textrm{Coffee} & 15 & 494.2 & 39.6 \\\\ \n",
    "\\textrm{Nap} & 15 & 492.8 & 45.2 \\\\ \n",
    "\\end{array}\n",
    "$$\n",
    "\n",
    "**Part A**: Compute a 97.5% t-confidence interval for the mean reaction time measurement for participants in each of these three groups. (You should find three separate confidence intervals.) Report the results.\n",
    "\n",
    "1. Can you make any conclusions regarding whether coffee, naps or both (coffee-naps) are better for faster reaction times?\n",
    "2. Why did we use a t-distribution?"
   ]
  },
  {
   "cell_type": "code",
   "execution_count": 5,
   "metadata": {},
   "outputs": [
    {
     "name": "stdout",
     "output_type": "stream",
     "text": [
      "T-distribution critical value:  2.51\n",
      "T-Confidence Intervals for mean reaction time after Nap+Coffee, Nap, and Coffeeq:\n",
      "Nap+Coffee:  [430.63 471.97]\n",
      "Coffee:  [468.54 519.86]\n",
      "Nap:  [463.512 522.088]\n"
     ]
    }
   ],
   "source": [
    "s = 15\n",
    "coffee_and_nap = {'mean': 451.3, 'std': 31.9}\n",
    "coffee = {'mean': 494.2, 'std': 39.6}\n",
    "nap = {'mean': 492.8, 'std': 45.2}\n",
    "\n",
    "t_ind = stats.t.ppf(0.9875, s - 1)\n",
    "\n",
    "print(\"T-distribution critical value: \", np.round(t_ind, decimals = 3))\n",
    "\n",
    "xtci_coffee_and_nap = (coffee_and_nap['mean'] - (t_ind*coffee_and_nap['std'])/np.sqrt(s), coffee_and_nap['mean'] + (t_ind*coffee_and_nap['std'])/np.sqrt(s))\n",
    "\n",
    "xtci_coffee = (coffee['mean'] - (t_ind*coffee['std'])/np.sqrt(s), coffee['mean'] + (t_ind*coffee['std'])/np.sqrt(s))\n",
    "\n",
    "xtci_nap = (nap['mean'] - (t_ind*nap['std'])/np.sqrt(s), nap['mean'] + (t_ind*nap['std'])/np.sqrt(s))\n",
    "\n",
    "print(\"T-Confidence Intervals for mean reaction time after Nap+Coffee, Nap, and Coffeeq:\")\n",
    "print(\"Nap+Coffee: \", np.round(xtci_coffee_and_nap, decimals = 3))\n",
    "print(\"Coffee: \", np.round(xtci_coffee, decimals = 3))\n",
    "print(\"Nap: \", np.round(xtci_nap, decimals = 3))\n"
   ]
  },
  {
   "cell_type": "markdown",
   "metadata": {},
   "source": [
    "***ANSWER:***\n",
    "\n",
    "$CI = \\mu_{c+n} \\pm \\frac{t_{0.9875}\\cdot std_{c+n}}{\\sqrt{n}} = 451.3 \\pm \\frac{2.51\\cdot 31.9}{\\sqrt{15}} = (430.63, 471.97)$\n",
    "\n",
    "$CI = \\mu_{c} \\pm \\frac{t_{0.9875}\\cdot std_{c}}{\\sqrt{n}} = 494.2 \\pm \\frac{2.51\\cdot 39.6}{\\sqrt{15}} = (468.54, 519.86)$\n",
    "\n",
    "$CI = \\mu_{n} \\pm \\frac{t_{0.9875}\\cdot std_{n}}{\\sqrt{n}} = 492.8 \\pm \\frac{2.51\\cdot 45.2}{\\sqrt{15}} = (463.512, 522.088)$"
   ]
  },
  {
   "cell_type": "markdown",
   "metadata": {},
   "source": [
    "**Part B**: Use an appropriate hypothesis test to determine if there sufficient evidence, at the $\\alpha = 0.025$ significance level, to conclude that taking a nap promotes faster reaction time than drinking coffee.  Be sure to clearly explain the test that you're doing and state all hypotheses. Do all computations in Python, and report results."
   ]
  },
  {
   "cell_type": "code",
   "execution_count": 12,
   "metadata": {},
   "outputs": [
    {
     "name": "stdout",
     "output_type": "stream",
     "text": [
      "Difference between means:  1.4\n",
      "Test statistic:  0.074\n",
      "T-Critical Value:  2.368\n"
     ]
    }
   ],
   "source": [
    "difference = np.round(coffee['mean'] - nap['mean'], decimals = 3)\n",
    "print(\"Difference between means: \",difference)\n",
    "\n",
    "t_ind = np.round(stats.t.ppf(0.9875, df = 28), decimals = 3)\n",
    "\n",
    "ts = np.round(difference / np.sqrt(((39.6**2)/15) + ((45.2**2)/15)), decimals = 3)\n",
    "print(\"Test statistic: \",ts)\n",
    "print(\"T-Critical Value: \",t_ind)"
   ]
  },
  {
   "cell_type": "markdown",
   "metadata": {},
   "source": [
    "***ANSWER:***\n",
    "2.368 - 0.074 = 1.628 \n",
    "The difference between the test statistic and T-critical value is too high to for there to be evidence that taking a nap gives you a faster reaction time than drinking coffee."
   ]
  },
  {
   "cell_type": "markdown",
   "metadata": {},
   "source": [
    "**Part C**: Use an appropriate hypothesis test to determine if there is sufficient evidence, at the $\\alpha = 0.025$ significance level, to conclude that taking a coffee-nap promotes faster reaction time than only drinking coffee, or only having a nap.  Be sure to clearly explain the test that you're doing and state all hypotheses. Do all computations in Python, and report results."
   ]
  },
  {
   "cell_type": "code",
   "execution_count": 32,
   "metadata": {},
   "outputs": [
    {
     "name": "stdout",
     "output_type": "stream",
     "text": [
      "0.00143\n"
     ]
    }
   ],
   "source": [
    "# coffee-nap versus coffee\n",
    "\n",
    "difference = 494.2 - 451.3\n",
    "ts = difference / np.sqrt((31.9**2 / 15) + (39.6**2 / 15))\n",
    "p_val = np.round(1 - stats.t.cdf(ts, df=28), decimals = 5)\n",
    "print(p_val)"
   ]
  },
  {
   "cell_type": "markdown",
   "metadata": {},
   "source": [
    "***\n",
    "***ANSWER:***\n",
    "\n",
    "$H_0: \\mu_{c} - \\mu_{c+n} = 0$\n",
    "\n",
    "$H_0: \\mu_{c} - \\mu_{c+n} > 0$\n",
    "\n",
    "Since the p-value is smaller than $\\alpha=0.025$ we can conclude that there is enough evidence to reject the null hypothesis."
   ]
  },
  {
   "cell_type": "code",
   "execution_count": 33,
   "metadata": {},
   "outputs": [
    {
     "name": "stdout",
     "output_type": "stream",
     "text": [
      "0.00355\n"
     ]
    }
   ],
   "source": [
    "# coffee-nap versus nap\n",
    "\n",
    "difference = 492.8 - 451.3\n",
    "ts = difference / np.sqrt((31.9**2 / 15) + (45.2**2 / 15))\n",
    "p_val = np.round(1 - stats.t.cdf(ts, df=28), decimals = 5)\n",
    "print(p_val)"
   ]
  },
  {
   "cell_type": "markdown",
   "metadata": {},
   "source": [
    "***ANSWER:***\n",
    "\n",
    "$H_0: \\mu_{n} - \\mu_{c+n} = 0$\n",
    "\n",
    "$H_0: \\mu_{n} - \\mu_{c+n} > 0$\n",
    "\n",
    "Just like above, since the p-value is smaller than $\\alpha=0.025$ we can conclude that there is enough evidence to reject the null hypothesis."
   ]
  },
  {
   "cell_type": "markdown",
   "metadata": {},
   "source": [
    "**Part D**: Compute a 97.5% confidence interval for the standard deviation of reaction time for coffee-nap takers. Do all computations in Python, and report the results."
   ]
  },
  {
   "cell_type": "code",
   "execution_count": 41,
   "metadata": {},
   "outputs": [
    {
     "name": "stdout",
     "output_type": "stream",
     "text": [
      "[22.389 54.069]\n"
     ]
    }
   ],
   "source": [
    "std = 31.9\n",
    "\n",
    "den2 = stats.chi2.ppf(0.0125, 14)\n",
    "den1 = stats.chi2.ppf(0.9875, 14)\n",
    "\n",
    "interval = (np.sqrt((14*(sd**2)) / den1), np.sqrt((14*(sd**2)) / den2))\n",
    "print(np.round(interval, decimals = 3))"
   ]
  },
  {
   "cell_type": "markdown",
   "metadata": {},
   "source": [
    "***ANSWER:***\n",
    "\n",
    "The confidence interval for 97.5% confidence is (22.389, 54.069)"
   ]
  },
  {
   "cell_type": "markdown",
   "metadata": {},
   "source": [
    "---\n",
    "[Back to top](#top)\n",
    "<a id='p4'></a>\n",
    "\n",
    "### [25 points] Problem 3 - Bad Science for Fun and Profit \n",
    "\n",
    "[Data Dredging](https://en.wikipedia.org/wiki/Data_dredging) and [p-hacking](https://www.explainxkcd.com/wiki/index.php/882:_Significant) are umbrella terms for the dangerous practice of automatically testing a large number of hypotheses on the entirety or subsets of a single dataset in order to find statistically significant results. In this exercise we will focus on the idea of testing hypotheses on subsets of a single data set.  \n",
    "\n",
    "Nefaria Octopain has landed her first data science internship at an aquarium.  Her primary summer project has been to design and test a new feeding regimen for the aquarium's octopus population. To test her regimen, her supervisors have allowed her to deploy her new feeding regimen to 4 targeted octopus subpopulations of 40 octopuses each, every day, for a month. \n",
    "\n",
    "The effectiveness of the new diet is measured simply by the rate at which the food is consumed, which is simply defined to be the _proportion_ of octopuses that eat the food (POOTEF). The aquarium's standard octopus diet has a POOTEF of $0.90$.  Nefaria is hoping to land a permanent position at the aquarium when she graduates, so she's **really** motivated to show her supervisors that the POOTEF of her new diet regimen is a (statistically) significant improvement over their previous diet. \n",
    "\n",
    "The data from Nefaria's summer experiment can be found in `pootef.csv`. Load this dataset as a Pandas DataFrame. "
   ]
  },
  {
   "cell_type": "code",
   "execution_count": 117,
   "metadata": {},
   "outputs": [
    {
     "data": {
      "text/html": [
       "<div>\n",
       "<style scoped>\n",
       "    .dataframe tbody tr th:only-of-type {\n",
       "        vertical-align: middle;\n",
       "    }\n",
       "\n",
       "    .dataframe tbody tr th {\n",
       "        vertical-align: top;\n",
       "    }\n",
       "\n",
       "    .dataframe thead th {\n",
       "        text-align: right;\n",
       "    }\n",
       "</style>\n",
       "<table border=\"1\" class=\"dataframe\">\n",
       "  <thead>\n",
       "    <tr style=\"text-align: right;\">\n",
       "      <th></th>\n",
       "      <th>Group</th>\n",
       "      <th>Date</th>\n",
       "      <th>Fed</th>\n",
       "      <th>Ate</th>\n",
       "    </tr>\n",
       "  </thead>\n",
       "  <tbody>\n",
       "    <tr>\n",
       "      <th>0</th>\n",
       "      <td>1</td>\n",
       "      <td>Oct  1 2018</td>\n",
       "      <td>40</td>\n",
       "      <td>37</td>\n",
       "    </tr>\n",
       "    <tr>\n",
       "      <th>1</th>\n",
       "      <td>1</td>\n",
       "      <td>NaN</td>\n",
       "      <td>40</td>\n",
       "      <td>37</td>\n",
       "    </tr>\n",
       "    <tr>\n",
       "      <th>2</th>\n",
       "      <td>1</td>\n",
       "      <td>NaN</td>\n",
       "      <td>40</td>\n",
       "      <td>35</td>\n",
       "    </tr>\n",
       "    <tr>\n",
       "      <th>3</th>\n",
       "      <td>1</td>\n",
       "      <td>NaN</td>\n",
       "      <td>40</td>\n",
       "      <td>35</td>\n",
       "    </tr>\n",
       "    <tr>\n",
       "      <th>4</th>\n",
       "      <td>1</td>\n",
       "      <td>Oct  5 2018</td>\n",
       "      <td>40</td>\n",
       "      <td>36</td>\n",
       "    </tr>\n",
       "    <tr>\n",
       "      <th>5</th>\n",
       "      <td>1</td>\n",
       "      <td>NaN</td>\n",
       "      <td>40</td>\n",
       "      <td>36</td>\n",
       "    </tr>\n",
       "    <tr>\n",
       "      <th>6</th>\n",
       "      <td>1</td>\n",
       "      <td>Oct  7 2018</td>\n",
       "      <td>40</td>\n",
       "      <td>34</td>\n",
       "    </tr>\n",
       "    <tr>\n",
       "      <th>7</th>\n",
       "      <td>1</td>\n",
       "      <td>NaN</td>\n",
       "      <td>40</td>\n",
       "      <td>37</td>\n",
       "    </tr>\n",
       "    <tr>\n",
       "      <th>8</th>\n",
       "      <td>1</td>\n",
       "      <td>Oct  9 2018</td>\n",
       "      <td>40</td>\n",
       "      <td>35</td>\n",
       "    </tr>\n",
       "    <tr>\n",
       "      <th>9</th>\n",
       "      <td>1</td>\n",
       "      <td>NaN</td>\n",
       "      <td>40</td>\n",
       "      <td>34</td>\n",
       "    </tr>\n",
       "    <tr>\n",
       "      <th>10</th>\n",
       "      <td>1</td>\n",
       "      <td>NaN</td>\n",
       "      <td>40</td>\n",
       "      <td>35</td>\n",
       "    </tr>\n",
       "    <tr>\n",
       "      <th>11</th>\n",
       "      <td>1</td>\n",
       "      <td>NaN</td>\n",
       "      <td>40</td>\n",
       "      <td>38</td>\n",
       "    </tr>\n",
       "    <tr>\n",
       "      <th>12</th>\n",
       "      <td>1</td>\n",
       "      <td>NaN</td>\n",
       "      <td>40</td>\n",
       "      <td>36</td>\n",
       "    </tr>\n",
       "    <tr>\n",
       "      <th>13</th>\n",
       "      <td>1</td>\n",
       "      <td>NaN</td>\n",
       "      <td>40</td>\n",
       "      <td>37</td>\n",
       "    </tr>\n",
       "    <tr>\n",
       "      <th>14</th>\n",
       "      <td>1</td>\n",
       "      <td>Oct 15 2018</td>\n",
       "      <td>40</td>\n",
       "      <td>37</td>\n",
       "    </tr>\n",
       "    <tr>\n",
       "      <th>15</th>\n",
       "      <td>1</td>\n",
       "      <td>Oct 16 2018</td>\n",
       "      <td>40</td>\n",
       "      <td>37</td>\n",
       "    </tr>\n",
       "    <tr>\n",
       "      <th>16</th>\n",
       "      <td>1</td>\n",
       "      <td>NaN</td>\n",
       "      <td>40</td>\n",
       "      <td>35</td>\n",
       "    </tr>\n",
       "    <tr>\n",
       "      <th>17</th>\n",
       "      <td>1</td>\n",
       "      <td>Oct 18 2018</td>\n",
       "      <td>40</td>\n",
       "      <td>34</td>\n",
       "    </tr>\n",
       "    <tr>\n",
       "      <th>18</th>\n",
       "      <td>1</td>\n",
       "      <td>Oct 19 2018</td>\n",
       "      <td>40</td>\n",
       "      <td>39</td>\n",
       "    </tr>\n",
       "    <tr>\n",
       "      <th>19</th>\n",
       "      <td>1</td>\n",
       "      <td>Oct 20 2018</td>\n",
       "      <td>40</td>\n",
       "      <td>34</td>\n",
       "    </tr>\n",
       "  </tbody>\n",
       "</table>\n",
       "</div>"
      ],
      "text/plain": [
       "    Group         Date  Fed  Ate\n",
       "0       1  Oct  1 2018   40   37\n",
       "1       1          NaN   40   37\n",
       "2       1          NaN   40   35\n",
       "3       1          NaN   40   35\n",
       "4       1  Oct  5 2018   40   36\n",
       "5       1          NaN   40   36\n",
       "6       1  Oct  7 2018   40   34\n",
       "7       1          NaN   40   37\n",
       "8       1  Oct  9 2018   40   35\n",
       "9       1          NaN   40   34\n",
       "10      1          NaN   40   35\n",
       "11      1          NaN   40   38\n",
       "12      1          NaN   40   36\n",
       "13      1          NaN   40   37\n",
       "14      1  Oct 15 2018   40   37\n",
       "15      1  Oct 16 2018   40   37\n",
       "16      1          NaN   40   35\n",
       "17      1  Oct 18 2018   40   34\n",
       "18      1  Oct 19 2018   40   39\n",
       "19      1  Oct 20 2018   40   34"
      ]
     },
     "execution_count": 117,
     "metadata": {},
     "output_type": "execute_result"
    }
   ],
   "source": [
    "df = pd.read_csv('pootef.csv')\n",
    "df.head(20)"
   ]
  },
  {
   "cell_type": "markdown",
   "metadata": {},
   "source": [
    "**Part A**: State the null and alternate hypotheses that Nefaria should test to see if her new feeding regimen is an improvement over the aquarium's standard feeding regimen with a POOTEF of $0.90$."
   ]
  },
  {
   "cell_type": "markdown",
   "metadata": {},
   "source": [
    "***ANSWER:***\n",
    "\n",
    "$H_0 : p = 0.90$\n",
    "\n",
    "$H_1 : p > 0.90$"
   ]
  },
  {
   "cell_type": "markdown",
   "metadata": {},
   "source": [
    "**Part B**: Complete the function below to test the hypothesis from **Part A** at the $\\alpha = 0.05$ significance level using a p-value test. Is there sufficient evidence for Nefaria to conclude that her feeding regimen is an improvement? "
   ]
  },
  {
   "cell_type": "code",
   "execution_count": 132,
   "metadata": {},
   "outputs": [
    {
     "name": "stdout",
     "output_type": "stream",
     "text": [
      "P-Value:  0.301\n"
     ]
    }
   ],
   "source": [
    "def z_test(bites, feedings, alpha=0.05):\n",
    "    '''\n",
    "    Function to test H1: p > 0.90 \n",
    "    Returns p-value based on H0: p=0.90 \n",
    "    '''\n",
    "    n = np.sum(feedings)\n",
    "    phat = np.sum(bites)/n\n",
    "    SE = np.sqrt(0.90*(1-0.90)/n)\n",
    "    z = (phat-0.90)/SE \n",
    "    pvalue = 1 - stats.norm.cdf(z)\n",
    "    \n",
    "    return pvalue \n",
    "\n",
    "print(\"P-Value: \", np.round(z_test(df[\"Ate\"], df[\"Fed\"], alpha=0.05), decimals = 3))"
   ]
  },
  {
   "cell_type": "markdown",
   "metadata": {},
   "source": [
    "The p-value is greater than 0.05, which means there is evidence that her hypthesis fails."
   ]
  },
  {
   "cell_type": "markdown",
   "metadata": {},
   "source": [
    "**Part C**: Bummer, Nefaria thinks. This is the part where she decides to resort to some questionable science.  Maybe there is a reasonable _subset_ of the data for which her alternative hypothesis is supported?  Can she find it?  Can she come up for a reasonable justification for why this subset of the data should be considered while the rest should be discarded? \n",
    "\n",
    "Here are the **rules**: Nefaria cannot modify the original data (e.g. by adding nonexistent feedings or bites to certain groups or days) because her boss will surely notice.  Instead she needs to find a subset of the data for which her hypothesis is supported by a p-value test at the $\\alpha = 0.05$ significance level _and_ be able to explain to her supervisors why her sub-selection of the data is reasonable.  \n",
    "\n",
    "In addition to your explanation of why your successful subset of the data is potentially reasonable, be sure to thoroughly explain the details of the tests that you perform and show all of your Python computation. "
   ]
  },
  {
   "cell_type": "code",
   "execution_count": 153,
   "metadata": {},
   "outputs": [
    {
     "name": "stdout",
     "output_type": "stream",
     "text": [
      "Group 1 :  P-Value =  0.53771\n",
      "Group 2 :  P-Value =  0.01155\n",
      "Group 3 :  P-Value =  0.64752\n",
      "Group 4 :  P-Value =  0.77556\n",
      "P-Values for readings with date\n",
      "Group 1 :  P-Value =  0.60393\n",
      "Group 2 :  P-Value =  0.00187\n",
      "Group 3 :  P-Value =  0.8333\n",
      "Group 4 :  P-Value =  0.93593\n",
      "P-Values for readings with no date\n",
      "Group 1 :  P-Value =  0.44588\n",
      "Group 2 :  P-Value =  0.39275\n",
      "Group 3 :  P-Value =  0.2714\n",
      "Group 4 :  P-Value =  0.40446\n"
     ]
    }
   ],
   "source": [
    "for g in range(1,4+1):\n",
    "    pval = np.round(z_test(df.loc[df[\"Group\"]==g, \"Ate\"], df.loc[df[\"Group\"]==g, \"Fed\"], alpha=0.05), decimals = 5)\n",
    "    print(\"Group\",g,\":  P-Value = \", pval)\n",
    "    \n",
    "    \n",
    "\n",
    "    \n",
    "    \n",
    "# For data without missing dates:\n",
    "print(\"P-Values for readings with date\")\n",
    "    \n",
    "dfClean = df.loc[df[\"Date\"].notnull(), :].copy()\n",
    "\n",
    "for g in range(1,4+1):\n",
    "    pval = np.round(z_test(dfClean.loc[dfClean[\"Group\"]==g, \"Ate\"], dfClean.loc[dfClean[\"Group\"]==g, \"Fed\"], alpha=0.05), decimals = 5)\n",
    "    print(\"Group\",g,\":  P-Value = \", pval)\n",
    "\n",
    "print(\"P-Values for readings with no date\")\n",
    "    \n",
    "dfUnClean = df.loc[df[\"Date\"].isnull(), :].copy()\n",
    "\n",
    "for g in range(1,4+1):\n",
    "    pval = np.round(z_test(dfUnClean.loc[dfUnClean[\"Group\"]==g, \"Ate\"], dfUnClean.loc[dfUnClean[\"Group\"]==g, \"Fed\"], alpha=0.05), decimals = 5)\n",
    "    print(\"Group\",g,\":  P-Value = \", pval)\n",
    "    "
   ]
  },
  {
   "cell_type": "markdown",
   "metadata": {},
   "source": [
    "Taking the p value for all values only for group 2 will allow her to prove that there is no evidence that her regimen is worse."
   ]
  },
  {
   "cell_type": "markdown",
   "metadata": {},
   "source": [
    "<br>\n",
    "\n",
    "---\n",
    "[Back to top](#top)\n",
    "<a id='p3'></a>\n",
    "\n",
    "### [30 points] Problem 4 - Simple Linear Regression for Science!\n",
    "\n",
    "From [Google Trends](https://trends.google.com/trends/?geo=US) data, it appears that interest in \"data science\" in the United States has steadily increasing since 2004. Interest is measured relative to the maximum rate of Google searches for that term over the time period (so the maximum is 100). \n",
    "\n",
    "**Part A:** Load up the data in `data_science_interest.csv` into a Pandas DataFrame. Create two new columns:\n",
    "* `Year` should be the year associated with that data point, and\n",
    "* `Month` should be the month (1-12) associated with that data point.\n",
    "\n",
    "Then, make a **scatter plot** (using `pyplot.scatter`) of all of the data points, showing how interest in \"data science\" has evolved over time. Label the x-axis by year, displaying ticks for Janurary of each year between 2004 and 2019. "
   ]
  },
  {
   "cell_type": "code",
   "execution_count": 74,
   "metadata": {},
   "outputs": [
    {
     "data": {
      "image/png": "[encoded data removed]",
      "text/plain": [
       "<Figure size 1440x1440 with 1 Axes>"
      ]
     },
     "metadata": {
      "needs_background": "light"
     },
     "output_type": "display_data"
    }
   ],
   "source": [
    "df = pd.read_csv('data_science_interest.csv',header = 1, names = ['date', 'interest'])\n",
    "df['Year'], df['Month'] = df['date'].str.split('-', 1).str\n",
    "\n",
    "ticks = [str(_) + '-01' for _ in range(2004,2020)]\n",
    "\n",
    "fig, ax = plt.subplots(figsize=(20,20))\n",
    "ax.plot_date(df['date'], df['interest'], xdate=True);\n",
    "ax.set_xlabel('Year');\n",
    "ax.set_ylabel('Interest Level');\n",
    "ax.set_title('Interest in Data Science');\n",
    "ax.set_xticks(ticks);\n",
    "ax.set_xticklabels(range(2004, 2020));"
   ]
  },
  {
   "cell_type": "markdown",
   "metadata": {},
   "source": [
    "***QUESTION FOR GRADER***\n",
    "\n",
    "Do you know why 2004 keeps showing up after 2019 on the scatter plot?"
   ]
  },
  {
   "cell_type": "markdown",
   "metadata": {},
   "source": [
    "**Part B:** These data (and the sea-level data from Homework 4) are a **time series**, where the independent variable is *time* and the dependent quantity is interest in data science. One of the central assumptions of linear regression is that the data are observations generated by some process, independently of one another. With time series data, we need to be careful because there could be some other process affecting the output data. In particular, **annual cycles** are patterns that reoccur each year and are frequently present in time series data. For example, seasonal patterns of weather are annual cycles.\n",
    "\n",
    "To see what kind of effect time has, make a **line plot** (using `pyplot.plot`) of the interest in data science, as a function of time. Again, include all of the data points and, for the x-axis, label only the tick marks associated with January of each year, and be sure to label your axes."
   ]
  },
  {
   "cell_type": "code",
   "execution_count": 75,
   "metadata": {},
   "outputs": [
    {
     "data": {
      "image/png": "[encoded data removed]",
      "text/plain": [
       "<Figure size 1440x1440 with 1 Axes>"
      ]
     },
     "metadata": {
      "needs_background": "light"
     },
     "output_type": "display_data"
    }
   ],
   "source": [
    "ticks = [str(_) + '-01' for _ in range(2004,2020)]\n",
    "fig, ax = plt.subplots(figsize=(20,20))\n",
    "ax.plot(df['date'], df['interest']);\n",
    "ax.set_xlabel('Year');\n",
    "ax.set_ylabel('Interest Level');\n",
    "ax.set_title('Interest in Data Science');\n",
    "ax.set_xticks(ticks);\n",
    "ax.set_xticklabels(range(2004, 2020));\n"
   ]
  },
  {
   "cell_type": "markdown",
   "metadata": {},
   "source": [
    "**Part C:** Does your plot from Part B suggest that there is some annual cycle to the interest in data science? During which months is interest in data science highest? What about lowest? Justify your answers using your plot, **and** by computing the mean interest in data science for each month. So, compute 12 values and report them in a markdown table. Do **not** just spit out a horizontal list of 12 numbers. That would be yucky to try to read, and we're scientists.\n",
    "\n",
    "What do you think accounts for the increased interest in data science during the fall months?"
   ]
  },
  {
   "cell_type": "code",
   "execution_count": 78,
   "metadata": {},
   "outputs": [
    {
     "data": {
      "text/html": [
       "<div>\n",
       "<style scoped>\n",
       "    .dataframe tbody tr th:only-of-type {\n",
       "        vertical-align: middle;\n",
       "    }\n",
       "\n",
       "    .dataframe tbody tr th {\n",
       "        vertical-align: top;\n",
       "    }\n",
       "\n",
       "    .dataframe thead th {\n",
       "        text-align: right;\n",
       "    }\n",
       "</style>\n",
       "<table border=\"1\" class=\"dataframe\">\n",
       "  <thead>\n",
       "    <tr style=\"text-align: right;\">\n",
       "      <th></th>\n",
       "      <th>interest</th>\n",
       "    </tr>\n",
       "    <tr>\n",
       "      <th>Month</th>\n",
       "      <th></th>\n",
       "    </tr>\n",
       "  </thead>\n",
       "  <tbody>\n",
       "    <tr>\n",
       "      <th>01</th>\n",
       "      <td>27.400000</td>\n",
       "    </tr>\n",
       "    <tr>\n",
       "      <th>02</th>\n",
       "      <td>25.562500</td>\n",
       "    </tr>\n",
       "    <tr>\n",
       "      <th>03</th>\n",
       "      <td>24.250000</td>\n",
       "    </tr>\n",
       "    <tr>\n",
       "      <th>04</th>\n",
       "      <td>24.687500</td>\n",
       "    </tr>\n",
       "    <tr>\n",
       "      <th>05</th>\n",
       "      <td>23.062500</td>\n",
       "    </tr>\n",
       "    <tr>\n",
       "      <th>06</th>\n",
       "      <td>21.625000</td>\n",
       "    </tr>\n",
       "    <tr>\n",
       "      <th>07</th>\n",
       "      <td>21.000000</td>\n",
       "    </tr>\n",
       "    <tr>\n",
       "      <th>08</th>\n",
       "      <td>26.937500</td>\n",
       "    </tr>\n",
       "    <tr>\n",
       "      <th>09</th>\n",
       "      <td>32.687500</td>\n",
       "    </tr>\n",
       "    <tr>\n",
       "      <th>10</th>\n",
       "      <td>29.437500</td>\n",
       "    </tr>\n",
       "    <tr>\n",
       "      <th>11</th>\n",
       "      <td>27.687500</td>\n",
       "    </tr>\n",
       "    <tr>\n",
       "      <th>12</th>\n",
       "      <td>20.866667</td>\n",
       "    </tr>\n",
       "  </tbody>\n",
       "</table>\n",
       "</div>"
      ],
      "text/plain": [
       "        interest\n",
       "Month           \n",
       "01     27.400000\n",
       "02     25.562500\n",
       "03     24.250000\n",
       "04     24.687500\n",
       "05     23.062500\n",
       "06     21.625000\n",
       "07     21.000000\n",
       "08     26.937500\n",
       "09     32.687500\n",
       "10     29.437500\n",
       "11     27.687500\n",
       "12     20.866667"
      ]
     },
     "execution_count": 78,
     "metadata": {},
     "output_type": "execute_result"
    }
   ],
   "source": [
    "df.head()\n",
    "df.groupby('Month').mean()"
   ]
  },
  {
   "cell_type": "markdown",
   "metadata": {},
   "source": [
    "***ANSWER:***\n",
    "\n",
    "I would guess that there is noticable spike in the interest during the months of September and January, dropping during the months following those two respectively, because students come back from both summer break and winter break and have a greater interest in their studies. Once the workload starts to build up and stres levels increase they don't express as much interest in the subject. I can attest to this as a student, because often times I will register for a class and be very excited to learn new things but once the workload hits me its hard to focus on those things I'm actually interested in."
   ]
  },
  {
   "cell_type": "markdown",
   "metadata": {},
   "source": [
    "**Part D:** (Spoiler alert!) Since there seems to be an annual cycle, one of the fundamental assumptions of our simple linear regression model is not satisfied. Namely, it is not the case that the model-data residuals, $\\epsilon_i$, are independent of one another.\n",
    "\n",
    "So, we need to process our data a bit further before fitting a regression model. One way to address this is to take the mean of all the data each year and use for analysis the time series of annual mean interest in data science. Create a new Pandas DataFrame that consists only of two columns:\n",
    "* `year`, and\n",
    "* `interest`, the mean interest in data science from the twelve months in that year."
   ]
  },
  {
   "cell_type": "code",
   "execution_count": 83,
   "metadata": {},
   "outputs": [
    {
     "data": {
      "text/html": [
       "<div>\n",
       "<style scoped>\n",
       "    .dataframe tbody tr th:only-of-type {\n",
       "        vertical-align: middle;\n",
       "    }\n",
       "\n",
       "    .dataframe tbody tr th {\n",
       "        vertical-align: top;\n",
       "    }\n",
       "\n",
       "    .dataframe thead th {\n",
       "        text-align: right;\n",
       "    }\n",
       "</style>\n",
       "<table border=\"1\" class=\"dataframe\">\n",
       "  <thead>\n",
       "    <tr style=\"text-align: right;\">\n",
       "      <th></th>\n",
       "      <th>interest</th>\n",
       "    </tr>\n",
       "    <tr>\n",
       "      <th>Year</th>\n",
       "      <th></th>\n",
       "    </tr>\n",
       "  </thead>\n",
       "  <tbody>\n",
       "    <tr>\n",
       "      <th>2004</th>\n",
       "      <td>9.181818</td>\n",
       "    </tr>\n",
       "    <tr>\n",
       "      <th>2005</th>\n",
       "      <td>8.583333</td>\n",
       "    </tr>\n",
       "    <tr>\n",
       "      <th>2006</th>\n",
       "      <td>7.083333</td>\n",
       "    </tr>\n",
       "    <tr>\n",
       "      <th>2007</th>\n",
       "      <td>6.750000</td>\n",
       "    </tr>\n",
       "    <tr>\n",
       "      <th>2008</th>\n",
       "      <td>6.750000</td>\n",
       "    </tr>\n",
       "    <tr>\n",
       "      <th>2009</th>\n",
       "      <td>8.083333</td>\n",
       "    </tr>\n",
       "    <tr>\n",
       "      <th>2010</th>\n",
       "      <td>7.916667</td>\n",
       "    </tr>\n",
       "    <tr>\n",
       "      <th>2011</th>\n",
       "      <td>8.333333</td>\n",
       "    </tr>\n",
       "    <tr>\n",
       "      <th>2012</th>\n",
       "      <td>10.500000</td>\n",
       "    </tr>\n",
       "    <tr>\n",
       "      <th>2013</th>\n",
       "      <td>15.000000</td>\n",
       "    </tr>\n",
       "    <tr>\n",
       "      <th>2014</th>\n",
       "      <td>24.000000</td>\n",
       "    </tr>\n",
       "    <tr>\n",
       "      <th>2015</th>\n",
       "      <td>35.833333</td>\n",
       "    </tr>\n",
       "    <tr>\n",
       "      <th>2016</th>\n",
       "      <td>43.083333</td>\n",
       "    </tr>\n",
       "    <tr>\n",
       "      <th>2017</th>\n",
       "      <td>61.250000</td>\n",
       "    </tr>\n",
       "    <tr>\n",
       "      <th>2018</th>\n",
       "      <td>72.750000</td>\n",
       "    </tr>\n",
       "    <tr>\n",
       "      <th>2019</th>\n",
       "      <td>85.727273</td>\n",
       "    </tr>\n",
       "  </tbody>\n",
       "</table>\n",
       "</div>"
      ],
      "text/plain": [
       "       interest\n",
       "Year           \n",
       "2004   9.181818\n",
       "2005   8.583333\n",
       "2006   7.083333\n",
       "2007   6.750000\n",
       "2008   6.750000\n",
       "2009   8.083333\n",
       "2010   7.916667\n",
       "2011   8.333333\n",
       "2012  10.500000\n",
       "2013  15.000000\n",
       "2014  24.000000\n",
       "2015  35.833333\n",
       "2016  43.083333\n",
       "2017  61.250000\n",
       "2018  72.750000\n",
       "2019  85.727273"
      ]
     },
     "execution_count": 83,
     "metadata": {},
     "output_type": "execute_result"
    }
   ],
   "source": [
    "df_year = df.groupby('Year').mean()\n",
    "df_year"
   ]
  },
  {
   "cell_type": "markdown",
   "metadata": {},
   "source": [
    "**Part E:** Perform a simple linear regression with `year` as the feature and `interest` as the response (mean annual interest in data science).  Report the estimated regression model in the form $Y = \\alpha + \\beta x$. Do all computations in Python. \n",
    "\n",
    "Then make a scatter plot of the mean annual interest in data science as a function of year, and overlay the estimated regression line. Label your axes and provide a legend."
   ]
  },
  {
   "cell_type": "code",
   "execution_count": 124,
   "metadata": {},
   "outputs": [
    {
     "name": "stdout",
     "output_type": "stream",
     "text": [
      "Alpha:  -8062.547 , Beta:  4.02\n"
     ]
    },
    {
     "data": {
      "image/png": "[encoded data removed]",
      "text/plain": [
       "<Figure size 1080x720 with 1 Axes>"
      ]
     },
     "metadata": {
      "needs_background": "light"
     },
     "output_type": "display_data"
    }
   ],
   "source": [
    "y = np.array(df_new['interest'])\n",
    "y = y[:-1]\n",
    "x = np.array(range(2004,2019))\n",
    "\n",
    "#Calculate beta\n",
    "beta = np.round(np.array((x-x.mean()) * (y-y.mean())).sum() / np.array((x-x.mean()) * (x-x.mean())).sum(), decimals = 3)\n",
    "alpha = np.round(y.mean() - beta*x.mean(), decimals = 3)\n",
    "y_hat = alpha + beta*x\n",
    "print(\"Alpha: \", alpha,\", Beta: \", beta)\n",
    "\n",
    "fig, ax = plt.subplots(figsize=(15,10))\n",
    "ax.plot(x, y_hat, color='red',dashes=[2, 2, 8, 2], label='Regression');\n",
    "ax.scatter(x, y, label='True Data');\n",
    "ax.set_xlabel('Year', fontsize=13);\n",
    "ax.set_ylabel('Interest', fontsize=13);\n",
    "ax.legend(loc=2, prop = {'size':12});\n",
    "ax.set_title('Interest in Science (SLR)', fontsize=13);"
   ]
  },
  {
   "cell_type": "markdown",
   "metadata": {},
   "source": [
    "**Part F**: Give a physical interpretation of the coefficient $\\hat{\\beta}$, estimated from your model. Include addressing whether the relationship between time and interest in data science is positive or negative. Fully justify your responses."
   ]
  },
  {
   "cell_type": "markdown",
   "metadata": {},
   "source": [
    "***ANSWER:***\n",
    "\n",
    "The coefficient $\\hat{\\beta}$ based on the graph above is $\\frac{50}{15}$, which shows a positive relationship between interest in data science and time. This seems accurate because the technology industry is progressing further every year which opens up a lot more opportunity for students to study and work."
   ]
  },
  {
   "cell_type": "markdown",
   "metadata": {},
   "source": [
    "**Part G**: What interest in data science does your simple linear regression model predict in the year 2025? What about in 2050? What are potential drawbacks to this model for interest in data science (think about the minimium and maximum values for the data)? \n",
    "\n",
    "**Note**: From Google Trends Documentation, the \"interest\" variable is defined as: \"Interest represent search interest relative to the highest point on the chart for the given region and time. A value of 100 is the peak popularity for the term. A value of 50 means that the term is half as popular. A score of 0 means there was not enough data for this term.\""
   ]
  },
  {
   "cell_type": "code",
   "execution_count": 104,
   "metadata": {},
   "outputs": [
    {
     "name": "stdout",
     "output_type": "stream",
     "text": [
      "Predicted Interest in Data Science for 2025:  78.0\n",
      "Predicted Interest in Data Science for 2050  178.0\n"
     ]
    }
   ],
   "source": [
    "predict2025 = np.round(alpha + beta*2025)\n",
    "print(\"Predicted Interest in Data Science for 2025: \",predict2025)\n",
    "predict2050 = np.round(alpha + beta*2050)\n",
    "print(\"Predicted Interest in Data Science for 2050 \",predict2050)"
   ]
  },
  {
   "cell_type": "markdown",
   "metadata": {},
   "source": [
    "***ANSWER:***\n",
    "\n",
    "Some potential drawbacks to this model include:\n",
    "1. The possibility of something happening in the technology industry that causes a major drop in the interest in data science, as opposed to a constant increase (unlikely).\n",
    "2. Judging by the look of the plots from part a) and b), the interst in data science was increasing at an *exponential* rate, which does not work with the *linear* regression we performed."
   ]
  },
  {
   "cell_type": "markdown",
   "metadata": {},
   "source": [
    "**Part H:** Compute a 80% confidence interval for the slope parameter, $\\beta$, ***by hand***. This means performing all calculations yourself in Python, as opposed to calling a simple Python function that gives you the result. Why is this a confidence interval for $\\beta$ and not for $\\hat{\\beta}$?"
   ]
  },
  {
   "cell_type": "code",
   "execution_count": 113,
   "metadata": {},
   "outputs": [
    {
     "name": "stdout",
     "output_type": "stream",
     "text": [
      "80% Confidence Interval:  [-3.631  9.514]\n"
     ]
    }
   ],
   "source": [
    "# I added 0.00000001 to the denominator to avoid the \"...Error in true_divide...\" error. \n",
    "#I'm sure theres a better way to do this?\n",
    "beta = (np.array((x-x.mean()) * (y-y.mean()))) / (np.array((x-x.mean()) * (x-x.mean())) + 0.00000001)\n",
    "var = beta.var()\n",
    "mean = beta.mean()\n",
    "cr_val = stats.t.ppf(0.8, df = len(beta)-1)\n",
    "\n",
    "ci = np.round((mean - cr_val*(var/np.sqrt(len(beta)-1)), mean + cr_val*(var/np.sqrt(len(beta)-1))), decimals = 3)\n",
    "\n",
    "print(\"80% Confidence Interval: \",ci)"
   ]
  },
  {
   "cell_type": "markdown",
   "metadata": {},
   "source": [
    "***ANSWER:***\n",
    "\n",
    "$\\hat{\\beta}$ is a single value, while $\\beta$ is a set of values."
   ]
  },
  {
   "cell_type": "markdown",
   "metadata": {
    "collapsed": true
   },
   "source": [
    "**Part I:** What proportion of the variation in mean annual interest in data science is explained by your linear regression model?"
   ]
  },
  {
   "cell_type": "code",
   "execution_count": 116,
   "metadata": {},
   "outputs": [
    {
     "name": "stdout",
     "output_type": "stream",
     "text": [
      "Proportion of the variation in mean annual interest:  0.0\n"
     ]
    }
   ],
   "source": [
    "a = ((y-y.mean())**2).sum()\n",
    "b = ((y-y.mean())**2).sum()\n",
    "\n",
    "r_2 = np.round(1-a/b, decimals = 3)\n",
    "\n",
    "print(\"Proportion of the variation in mean annual interest: \",r_2)"
   ]
  }
 ],
 "metadata": {
  "kernelspec": {
   "display_name": "Python 3",
   "language": "python",
   "name": "python3"
  },
  "language_info": {
   "codemirror_mode": {
    "name": "ipython",
    "version": 3
   },
   "file_extension": ".py",
   "mimetype": "text/x-python",
   "name": "python",
   "nbconvert_exporter": "python",
   "pygments_lexer": "ipython3",
   "version": "3.7.3"
  }
 },
 "nbformat": 4,
 "nbformat_minor": 2
}
