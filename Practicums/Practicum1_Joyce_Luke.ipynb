{
 "cells": [
  {
   "cell_type": "markdown",
   "metadata": {},
   "source": [
    "<a id='top'></a>\n",
    "\n",
    "# CSCI 3022: Intro to Data Science - Fall 2019 Practicum 1\n",
    "***\n",
    "\n",
    "This practicum is due on Canvas by **11:59 PM on Friday October 11**. Your solutions to theoretical questions should be done in Markdown/MathJax directly below the associated question.  Your solutions to computational questions should include any specified Python code and results as well as written commentary on your conclusions.  \n",
    "\n",
    "**Here are the rules:** \n",
    "\n",
    "1. All work, code and analysis, must be your own. \n",
    "1. You may use your course notes, posted lecture slides, textbooks, in-class notebooks, and homework solutions as resources.  You may also search online for answers to general knowledge questions like the form of a probability distribution function or how to perform a particular operation in Python/Pandas. \n",
    "1. This is meant to be like a coding portion of your midterm exam. So, the instructional team will be much less helpful than we typically are with homework. For example, we will not check answers, help debug your code, and so on.\n",
    "1. If something is left open-ended, it is because we want to see how you approach the kinds of problems you will encounter in the wild, where it will not always be clear what sort of tests/methods should be applied. Feel free to ask clarifying questions though.\n",
    "2. You may **NOT** post to message boards or other online resources asking for help.\n",
    "3. You may **NOT** copy-paste solutions *from anywhere*.\n",
    "4. You may **NOT** collaborate with classmates or anyone else.\n",
    "5. In short, **your work must be your own**. It really is that simple.\n",
    "\n",
    "Violation of the above rules will result in an immediate academic sanction (*at the very least*, you will receive a 0 on this practicum or an F in the course, depending on severity), and a trip to the Honor Code Council.\n",
    "\n",
    "**By submitting this assignment, you agree to abide by the rules given above.**\n",
    "\n",
    "***\n",
    "\n",
    "**Name**:  \n",
    "\n",
    "***\n",
    "\n",
    "\n",
    "**NOTES**: \n",
    "\n",
    "- You may not use late days on the practicums nor can you drop your practicum grades. \n",
    "- If you have a question for us, post it as a **PRIVATE** message on Piazza.  If we decide that the question is appropriate for the entire class, then we will add it to a Practicum clarifications thread. \n",
    "- Do **NOT** load or use any Python packages that are not available in Anaconda 3.6. \n",
    "- Some problems with code may be autograded.  If we provide a function API **do not** change it.  If we do not provide a function API then you're free to structure your code however you like. \n",
    "- Submit only this Jupyter notebook to Canvas.  Do not compress it using tar, rar, zip, etc. \n",
    "- This should go without saying, but... For any question that asks you to calculate something, you **must show all work to receive credit**. Sparse or nonexistent work will receive sparse or nonexistent credit.\n",
    "\n",
    "---\n",
    "**Shortcuts:**  [Problem 1](#p1) | [Problem 2](#p2) | [Problem 3](#p3) |[Bottom](#bot)\n",
    "\n",
    "---"
   ]
  },
  {
   "cell_type": "code",
   "execution_count": null,
   "metadata": {},
   "outputs": [],
   "source": [
    "from scipy import stats\n",
    "from random import randint\n",
    "import random\n",
    "from scipy.special import binom\n",
    "import numpy as np \n",
    "import pandas as pd\n",
    "import matplotlib.pyplot as plt\n",
    "%matplotlib inline"
   ]
  },
  {
   "cell_type": "markdown",
   "metadata": {},
   "source": [
    "<br>\n",
    "\n",
    "---\n",
    "[Back to top](#top)\n",
    "<a id='p1'></a>\n",
    "\n",
    "### [30 points] Problem 1: Rubber Ducky Race"
   ]
  },
  {
   "cell_type": "markdown",
   "metadata": {},
   "source": [
    "Every year, the Aspen Valley Rotary Club hosts a [rubber ducky race](https://www.aspenrotary.org/page/the-ducky-derby). Each Rubber Ducky is stamped with a number, tickets are sold  and if your ducky makes it to the end of the course first, you win. Exact Rules follow:\n",
    "\n",
    "1. The Rotary Club sells \"Duck Adoption\" papers. Only Ducks that have been adopted start the race, so there must always be a winner.\n",
    "2. The ducks are dumped into a river and race to a finish line. The adoptive parent of the first duck across the line wins. The standard prize is 15,000 dollars.\n",
    "3. Before the start of the duck race, the Rotary Club randomly draws a number of special ducks. For every 3,333 ducks that start the race, 1 special duck is drawn.\n",
    "4. If a special duck wins the race the prize is increased from 15,000 dollars to 1,000,000 dollars.\n",
    "\n",
    "**Assume that all ducks are equally likely to win the ducky race.**"
   ]
  },
  {
   "cell_type": "markdown",
   "metadata": {},
   "source": [
    "**Part A:**\n",
    "Given that 9999 ducks start the race and you purchase 1 duck, calculate the probability by hand that your duck is selected as a special ducky."
   ]
  },
  {
   "cell_type": "markdown",
   "metadata": {},
   "source": [
    "Let X be the event that our duck is chosen. P(X) happening in the first round of picking a special duck is 1/9999, P(X) happening after one epcial duck is chosen is then 1/9998, and P(X) happing in the third round is consequently 1/9997. Therefore P(X) total is $\\frac{1}{9999} + \\frac{1}{9998} + \\frac{1}{9997}$ = 0.00030006 = $3.0006*10^{-4}$"
   ]
  },
  {
   "cell_type": "markdown",
   "metadata": {},
   "source": [
    "**Part B:** Calculate the probability that the rotary club pays out the million dollar prize."
   ]
  },
  {
   "cell_type": "markdown",
   "metadata": {},
   "source": [
    "Given there are 3 special ducks in the race and 9999 ducks total, and the prize goes up to a million dollars if a special duck wins the race, the probability of the club having to pay out a million dollars is $\\frac{1}{3333} = 3.0003*10^{-4}$."
   ]
  },
  {
   "cell_type": "markdown",
   "metadata": {},
   "source": [
    "**Part C:** Calculate the probability that your duck is both picked as a special duck and wins the race."
   ]
  },
  {
   "cell_type": "markdown",
   "metadata": {},
   "source": [
    "Given the calculation we did in Part A, the proability of our duck getting chosen to be a special duck is 0.00030006, and the probability of our duck crossing the finish line first out of 9999 ducks total is 1/9999, the probability of both of these events occuring is $(1.0001*10^{-4})*(3.0006*10^{-4}) = 3.0009 * 10^{-8}$"
   ]
  },
  {
   "cell_type": "markdown",
   "metadata": {},
   "source": [
    "**Part D:** Calculate the expected payout for the Rotary Club for a 9999 duck race. "
   ]
  },
  {
   "cell_type": "markdown",
   "metadata": {},
   "source": [
    "The probability that a special duck wins the race for a prize of 1,000,000 is 3/9999, while the probability that a regular duck wins the race for a price of 15,000 is 9996/9999. Therefore the expected payout is $E[x]=(\\frac{3}{9999})1000000 + (\\frac{9996}{9999})15000 = 15,295.53$"
   ]
  },
  {
   "cell_type": "markdown",
   "metadata": {},
   "source": [
    "**Part E:** The Rotary Club takes out an insurance policy on having to pay the 1,000,000 dollar prize. They pay $500 per duck race to the insurance company. From your answer above, is this worth it? Explain. Is there any number of ducks that make the insurance policy a good deal? If it is not worth it, what's a reason the the Rotary Club might buy the policy anyways? "
   ]
  },
  {
   "cell_type": "markdown",
   "metadata": {},
   "source": [
    "For the insurance policy to be exactly worth it, the Rotary Club would be paying ($E[x] = 15,295.53$ dollars) - 15,000 dollars = 295.53 dollars. Since the payment they're currently making is more than that, I would say the insurance policy is better than nothing, but not worth it. We can test its worth for a racewith the maximum amount of ducks that will only allow one special duck to be drawn $\\newline$\n",
    "$E[x]=(\\frac{1}{6665})1000000 + (\\frac{6664}{6665})15000 = 15,147.79$. 147.79 < 295.53, which means the expected payout only decreases as the number of ducks increases before another special duck is drawn. Therefore there is no number of ducks that will make the policy worth it. The reason they are buying it is so they still have some means of paying the million dollars if a special duck is ever drawn. Its much more managable to spend a lot of money over a long period of time than it is to pay it upfront."
   ]
  },
  {
   "cell_type": "markdown",
   "metadata": {},
   "source": [
    "**Part F:** Write a python function that simulates a single duck race. It should use the api below and the class written for you. DO NOT CHANGE THE API OR THE ENUMERATED CLASS. The function should take the number of ducks that start the race in as a parameter, and return a tuple of the duck's number that won, and the type of winner that duck was. \n",
    "\n",
    "[E.g. (1522, <Types_Of_Winner.REGULAR: 0>) ] \n",
    "\n",
    "The duck numbers start at 1 and go until the number passed in (Eg. For 500 ducks, the ducks are numbered 1 to 500. No Duck is numbered 0)."
   ]
  },
  {
   "cell_type": "code",
   "execution_count": 251,
   "metadata": {},
   "outputs": [],
   "source": [
    "from enum import Enum\n",
    "#Dont change this. You should return a tuple of (int, Type_Of_Winner) in the function below. \n",
    "#The type of winner should be from this class. The int should represent the duck number of the winning duck.\n",
    "#If you want more info about Enumerated Types in python: https://docs.python.org/3/library/enum.html\n",
    "class Types_Of_Winner(Enum):\n",
    "    REGULAR = 0\n",
    "    SPECIAL = 1\n",
    "\n",
    "#don't change this api. We will use a set of unit tests to test this. \n",
    "#This uses a default parameter. If you are unfamiliar with default parameters: \n",
    "#https://www.geeksforgeeks.org/default-arguments-in-python/ \n",
    "#Don't change the default parameter.\n",
    "def rubber_Ducky_Race(number_Of_Ducks=3333):\n",
    "    #YOUR IMPLEMENTATION HERE\n",
    "    #Change the below to simulate a duck race.\n",
    "    #Initiate list of ducks by number\n",
    "    ducks = [i for i in range(1,number_Of_Ducks+1)]\n",
    "    #Figure out how many special ducks will be drawn\n",
    "    numSpecial = int(number_Of_Ducks / 3333)\n",
    "    #Draw special ducks\n",
    "    specialDucks = np.random.choice(np.array(ducks), replace=False, size=numSpecial)\n",
    "    #Choose winner\n",
    "    winning_Duck_Number = random.randint(1, number_Of_Ducks+1)\n",
    "    \n",
    "    #Is the winner a special duck?\n",
    "    if winning_Duck_Number in specialDucks:\n",
    "        type_Of_Winner = Types_Of_Winner.SPECIAL\n",
    "    else:\n",
    "        type_Of_Winner = Types_Of_Winner.REGULAR\n",
    "    #print(type_Of_Winner)\n",
    "    #you can change the variable names, but must return tuple of type (int, Types_Of_Winner)\n",
    "    return (winning_Duck_Number, type_Of_Winner)"
   ]
  },
  {
   "cell_type": "markdown",
   "metadata": {},
   "source": []
  },
  {
   "cell_type": "markdown",
   "metadata": {},
   "source": [
    "**Part G:** Write a python function that takes in a number of duck races (num_Duck_Races) and a number of ducks per race (num_Ducks_Per_Race). The function should run the function you wrote in part F by passing the number of ducks to the function from part F. It should run the function from part F num_Duck_Races times, and record all the results. It then should calculate the amount of money the rotary club paid out in each race and return a list of the rotary club's payouts (integer values of dollars paid out). Don't change the API as we will be auto grading this."
   ]
  },
  {
   "cell_type": "code",
   "execution_count": 255,
   "metadata": {},
   "outputs": [],
   "source": [
    "#Don't change this api. Use the parameters passed in in your implemenation of this function.\n",
    "def run_Simulation_Duck_Race(num_Duck_Races, num_Ducks_Per_Race):\n",
    "    #IMPLEMENTATION HERE\n",
    "    payouts = list()\n",
    "    for i in range(num_Duck_Races):\n",
    "        duck_number, type_winner = rubber_Ducky_Race(number_Of_Ducks=num_Ducks_Per_Race)\n",
    "        if type_winner == Types_Of_Winner.SPECIAL:\n",
    "            payouts.append(1000000)\n",
    "        elif type_winner == Types_Of_Winner.REGULAR:\n",
    "            payouts.append(15000)\n",
    "    #CHANGE RETURN VALUE TO BE LIST OF PAYOUTS FROM YOUR CODE IMPLEMENTED IN THIS FUNCTION\n",
    "    return payouts"
   ]
  },
  {
   "cell_type": "markdown",
   "metadata": {},
   "source": []
  },
  {
   "cell_type": "markdown",
   "metadata": {},
   "source": [
    "**Part H:** Run the simulation function you made in part G 50 times for 1111 duck races each with 3333 ducks per race. Calculate the mean of each list of payouts returned by your function from part F and plot the mean payout values on a histogram. We recommend using the default bins argument here (don't pass it in). Make sure to make your histogram legible, label the plot, and label the x and the y axes (with their units). Do this all in one cell and run the cell a few times and see what different histograms are generated from the simulations. When you find one with three distinct \"bars\" leave it in the output of the cell. Explain why this histogram makes sense. Your answer here should talk about what each distinct \"bar\" in the histogram represents, the probabiity that the rotary club pays out the million dollar prize, and the number of races in each simulation. "
   ]
  },
  {
   "cell_type": "code",
   "execution_count": 266,
   "metadata": {},
   "outputs": [
    {
     "name": "stdout",
     "output_type": "stream",
     "text": [
      "[15000.0, 15000.0, 15000.0, 15000.0, 15000.0, 15886.58, 15000.0, 15000.0, 15000.0, 15000.0, 15000.0, 15000.0, 15000.0, 15000.0, 15000.0, 15000.0, 15000.0, 15886.58, 15000.0, 16773.17, 15000.0, 15000.0, 15000.0, 15000.0, 15886.58, 15000.0, 15000.0, 15000.0, 15000.0, 15000.0, 15000.0, 15886.58, 15000.0, 15000.0, 15000.0, 15886.58, 15000.0, 15000.0, 15000.0, 15000.0, 15886.58, 15000.0, 15000.0, 15000.0, 15000.0, 15000.0, 15000.0, 15000.0, 15000.0, 15886.58]\n"
     ]
    },
    {
     "data": {
      "image/png": "[encoded data removed]",
      "text/plain": [
       "<Figure size 432x288 with 1 Axes>"
      ]
     },
     "metadata": {
      "needs_background": "light"
     },
     "output_type": "display_data"
    }
   ],
   "source": [
    "a = []\n",
    "for i in range(50):\n",
    "    payouts = run_Simulation_Duck_Race(1111, 3333)\n",
    "    avg = np.mean(payouts)\n",
    "    avg = int(avg*100)/100.0\n",
    "    a.append(avg)\n",
    "print(a)\n",
    "plt.hist(a)\n",
    "plt.grid(b=True, which='both', color='0.65', linestyle='-')\n",
    "plt.xlabel(\"Average Payout Per 1111 Races\")\n",
    "plt.ylabel('Frequency')\n",
    "plt.show(a)"
   ]
  },
  {
   "cell_type": "markdown",
   "metadata": {},
   "source": [
    "The histogram I generated above has 3 distinct bar value - 15000 at a frequency of 42, 15886.58 at a frequency of 7, and 16773.17 at a frequency of 1. The probability that the rotary club pays out the millions dollar prize for 3333 duck race as we calculated above is $\\frac{1}{3333}=3.0003*10^{-4}$. Averages of 15000 on the histogram represent instances of the rotary club paying out the million dollar prize not once out of 1111 races. Likewise, averages of 15886.58 on the histogram represent instances of the rotary club paying out the million dollar prize once out of 1111 races, and averages of 16773.17 reprsent instances of the rotary club having to pay out the million dollar price twice out of 1111 races. So according to the histogram, the number of times the rotaryb club paid out the million dollar prize is 42(0) + 7(1) + 1(2) = 9, and there are $1111*50=55550$ races in total, so the apparent probability of the rotary club having to pay out the million dollar prize based off the histogram is $\\frac{9}{55550}=1.6201*10^{-4}$, which is relatively close (also on the lower end of all the times I ran this code) to $3.0003*10^{-4}$, the probability for that vent that we calculated earlier."
   ]
  },
  {
   "cell_type": "markdown",
   "metadata": {},
   "source": [
    "**Part I:** Pick a lucky number in between 1 and 7000 and run your function from part F 25000 times with 7,000 ducks. Capture all the results and find the number of times your duck won! Was your duck ever a winner or even a special Million Dollar Winner?"
   ]
  },
  {
   "cell_type": "code",
   "execution_count": 267,
   "metadata": {},
   "outputs": [
    {
     "name": "stdout",
     "output_type": "stream",
     "text": [
      "Your regular duck, duck number 1998,  won 3 times\n",
      "Your special duck, duck number 1998,  won 0 times\n"
     ]
    }
   ],
   "source": [
    "lucky_number = 1998\n",
    "regWins = 0\n",
    "specialWins = 0\n",
    "for i in range(25000):\n",
    "    duck_number, type_winner = rubber_Ducky_Race(number_Of_Ducks=7000)\n",
    "    if duck_number==1998 and type_winner == Types_Of_Winner.SPECIAL:\n",
    "        specWins+=1\n",
    "    elif duck_number==1998 and  type_winner == Types_Of_Winner.REGULAR:\n",
    "        regWins+=1\n",
    "print(\"Your regular duck, duck number {}, \".format(lucky_number) + \" won {} times\".format(regWins))\n",
    "print(\"Your special duck, duck number {}, \".format(lucky_number) + \" won {} times\".format(specialWins))"
   ]
  },
  {
   "cell_type": "markdown",
   "metadata": {},
   "source": [
    "I ran this test a few times and never once was a winner with a special duck. This is accurate considering the probability of getting my duck chosen as a special duck out of 7000 is $\\frac{1}{7000}+\\frac{1}{6999} = 0.000285735$, and the probability of a special duck winning out of 7000 total ducks is $\\frac{2}{7000}=0.000285714$, which means the probability of both those events occuring is $0.000285735 * 0.000285714 = 8.164 * 10^{-8}$"
   ]
  },
  {
   "cell_type": "markdown",
   "metadata": {},
   "source": [
    "<br>\n",
    "\n",
    "---\n",
    "[Back to top](#top)\n",
    "<a id='p2'></a>\n",
    "\n",
    "### [20 points] Problem 2: Tax Fraud\n",
    "\n",
    "Let $X =$ the leading digit of a randomly selected number from a large accounting ledger. So, for example, if we randomly draw the number $\\$20,695$, then $X = 2$. People who make up numbers to commit accounting fraud tend to give $X$ a (discrete) uniform distribution, i.e., $P(X = x) = 1/9$, for $x \\in \\{1,...,9\\}$. However, there is empirical evidence that suggests that \"naturally occurring\" numbers (e.g., numbers in a non-fraudulent accounting ledger) have leading digits that do not follow a uniform distribution. Instead, they follow a distribution defined by:\n",
    "\n",
    "\\begin{align*}\n",
    "f(x) = \\log_{10}\\bigg(\\frac{x+1}{x}\\bigg), \\,\\,\\,\\, x = 1,2,...,9.\n",
    "\\end{align*} \n",
    "\n",
    "Using ${\\tt tax.txt}$, a dataset containing the taxable incomes for individuals in 1978, we will decide whether this dataset is fraudulent. \n",
    "\n",
    "\n",
    "\n",
    "**Part A**:  Read in the data and create a variable that holds only the character of each data point."
   ]
  },
  {
   "cell_type": "code",
   "execution_count": 362,
   "metadata": {
    "scrolled": true
   },
   "outputs": [],
   "source": [
    "import re\n",
    "\n",
    "leadingDigs = list()\n",
    "with open('tax.txt', 'r') as tax_file:\n",
    "    #skip first row\n",
    "    line = tax_file.readline()\n",
    "    while line:\n",
    "        line = tax_file.readline()\n",
    "        #using regex to run through file\n",
    "        match = re.search('\\t\\d', line)\n",
    "        if match:\n",
    "            #digit takes in only the leading digit of each value\n",
    "            digit = match.group(0)\n",
    "            leadingDigs.append(int(digit))  "
   ]
  },
  {
   "cell_type": "markdown",
   "metadata": {},
   "source": []
  },
  {
   "cell_type": "markdown",
   "metadata": {},
   "source": [
    "**Part B**: Create a histogram of the data that also plots or overlays the suggested non-fradulent density $f(x)$ as well as the density of the discrete uniform over the same support."
   ]
  },
  {
   "cell_type": "code",
   "execution_count": 361,
   "metadata": {},
   "outputs": [
    {
     "data": {
      "text/plain": [
       "<matplotlib.legend.Legend at 0x20b5e3f8908>"
      ]
     },
     "execution_count": 361,
     "metadata": {},
     "output_type": "execute_result"
    },
    {
     "data": {
      "image/png": "[encoded data removed]",
      "text/plain": [
       "<Figure size 1296x648 with 1 Axes>"
      ]
     },
     "metadata": {
      "needs_background": "light"
     },
     "output_type": "display_data"
    }
   ],
   "source": [
    "import math\n",
    "d = {0: 0, 1: 0, 2: 0, 3: 0, 4: 0, 5: 0, 6: 0, 7: 0, 8: 0, 9: 0}\n",
    "\n",
    "sample_size = len(digit_list)\n",
    "\n",
    "data_points = np.array([0, 1, 2, 3, 4, 5, 6, 7, 8, 9])\n",
    "\n",
    "probabilities = [math.log10((x+1)/x) if x > 0 else 0 for x in data_points ]\n",
    "\n",
    "natural_dist_list = np.random.choice(data_points, p=probabilities, size=sample_size)\n",
    "\n",
    "uniform_list = np.random.uniform(0,10,sample_size)\n",
    "\n",
    "plot = plt.figure(figsize=(18,9))\n",
    "ax = plt.subplot()\n",
    "ax.hist([digit_list, natural_dist_list, uniform_list], range=[0,10], \n",
    "             color=['b', 'g', 'y'], label=['Taxable Income Data', 'Natural Distribution', 'Uniform Distribution'], density=True)\n",
    "plt.xticks([x+0.5 for x in range(10)], range(10))\n",
    "\n",
    "ax.set_title('Leading Digit Distributions')\n",
    "ax.set_xlabel('Digit')\n",
    "ax.set_ylabel('Density')\n",
    "\n",
    "plt.legend()"
   ]
  },
  {
   "cell_type": "markdown",
   "metadata": {},
   "source": []
  },
  {
   "cell_type": "markdown",
   "metadata": {},
   "source": [
    "**Part C**: Does it appear as those the data is fraudulent, not fraudulent, or too hard to tell?  What kind of numerical measures could you use to support such a conclusion?"
   ]
  },
  {
   "cell_type": "markdown",
   "metadata": {},
   "source": [
    "According to the histogram, the data from the the set of taxable incomes does not appear to be fraudulent. Each data point for \"Actual Data\" is too similar to the data points for \"Natural Distribution\", while the uniform distribution falls far below. A way to make this conclusion based off numbers would be to take the averages for the leading digits of the 'Taxable Income Data', 'Natural Distribution' and 'Uniform Distribution', in order to see that the averages for the first two are much lower than the average of the uniform distribution, as there are more occurences of leading digit 1."
   ]
  },
  {
   "cell_type": "markdown",
   "metadata": {},
   "source": [
    "**Part D**: Create a new object that stores only the first digit of the first 100 distinct powers of 2, e.g. $Y=[2, 2^2, 2^3, 2^4, \\dots ]$.  Repeat steps a) and b) for this new data set, plotting the distribution of the first digit of terms in $Y$ against $f(x)$."
   ]
  },
  {
   "cell_type": "code",
   "execution_count": 280,
   "metadata": {},
   "outputs": [
    {
     "data": {
      "text/plain": [
       "<matplotlib.legend.Legend at 0x20b6a621fd0>"
      ]
     },
     "execution_count": 280,
     "metadata": {},
     "output_type": "execute_result"
    },
    {
     "data": {
      "image/png": "[encoded data removed]",
      "text/plain": [
       "<Figure size 1296x648 with 1 Axes>"
      ]
     },
     "metadata": {
      "needs_background": "light"
     },
     "output_type": "display_data"
    }
   ],
   "source": [
    "actual = [int(str(2**i)[0]) for i in range(1, 101)]\n",
    "uniform = np.random.uniform(0,10,len(actual))\n",
    "natural = np.random.choice(data_points, p=probabilities, size=len(actual))\n",
    "\n",
    "plt.figure(figsize=(18,9))\n",
    "ax = plt.subplot()\n",
    "\n",
    "ax.hist([actual, natural, uniform], range=[0,10], color=['b', 'g', 'y'], label=['Power of 2', 'Natural Distribution', 'Uniform Distribution'], density=True)\n",
    "\n",
    "plt.xticks([x+0.5 for x in range(10)], range(10))\n",
    "\n",
    "ax.set_title('Leading Digit Distributions')\n",
    "ax.set_xlabel('Leading Digit')\n",
    "ax.set_ylabel('Density')\n",
    "\n",
    "ax.grid(color='grey', linestyle=':', linewidth=2, alpha=0.1)\n",
    "\n",
    "plt.legend()"
   ]
  },
  {
   "cell_type": "markdown",
   "metadata": {},
   "source": []
  },
  {
   "cell_type": "markdown",
   "metadata": {},
   "source": [
    "<br>\n",
    "\n",
    "---\n",
    "[Back to top](#top)\n",
    "<a id='p3'></a>\n",
    "\n",
    "### [30 points] Problem 3: Poker\n",
    "\n",
    "It's time to play poker.  (https://en.wikipedia.org/wiki/Texas_hold_%27em#Hand_values) Assume that we are using a standard deck of cards without jokers (52 cards). For each round, you will be dealt 5 cards from the deck without replacement. There are several different types of hands that can be dealt; listed below are a few of interest: \n",
    "\n",
    "- Highcard (Simple value of the card. Lowest: 2 - Highest: Ace)\n",
    "- Pair (Two cards with the same value)\n",
    "- Two pair (Twice two cards with the same value)\n",
    "- Three of a kind (Three cards with the same value)\n",
    "- Straight (Sequence of 5 cards in increasing value, Ace can only follow K)\n",
    "- Four of a kind (Four cards with the same value)\n",
    "- Full house (Three of a kind and a pair)\n",
    "- Flush (5 cards of the same suit)"
   ]
  },
  {
   "cell_type": "markdown",
   "metadata": {},
   "source": [
    "**Part A**: What is the exact probability you get at least a Pair in your 5 cards? What is the probability of getting a Full House?  (Note that we're including pairs as a subset of a full house, here)"
   ]
  },
  {
   "cell_type": "markdown",
   "metadata": {},
   "source": [
    "So, there are 52 cards total so the total number of 5 cards combinations can be calculated as $\\frac{52!}{47!5!} = 2598960$. \n",
    "\n",
    "To find the probability of selecting 5 cards with at least one pair, we must find the probability of getting one pair and union it with the probability of getting two pairs. The number of different one pair combos you can get is $13\\choose{1}$$4\\choose{2}$$12\\choose{3}$$4\\choose{1}$$4\\choose{1}$ $4\\choose{1}$ = 13·6·220·4·4·4 = 1,098,240, and the total number of hands you can choose with 2 pairs is $13\\choose{2}$$4\\choose{2}$$4\\choose{2}$$11\\choose{1}$$4\\choose{1}$ =  78·6·6·11·4 = 123,552. So the total number of hands that either has one or two pairs is 123,552 + 1,098,240 = 1,221,792, which means the probability of either of these events occuring is $\\frac{1,221,792}{2598960} = 0.4701$. \n",
    "\n",
    "The probability of getting a fullhouse is the probability of choosing 3 of the same number and 2 of the same number, which is calculated as $13\\choose{1}$$4\\choose{2}$$12\\choose{1}$$4\\choose{3}$ = 13·4·12·6 = 3744, meaning the probability of this event occuring is $\\frac{3744}{2598960} = 1.441*10^{-3}$."
   ]
  },
  {
   "cell_type": "markdown",
   "metadata": {},
   "source": [
    "**Part B**: Write a function `getCards()` to randomly generate 5 cards from the no-joker deck. This function should return an array of 5 cards."
   ]
  },
  {
   "cell_type": "code",
   "execution_count": 353,
   "metadata": {},
   "outputs": [],
   "source": [
    "class Card:\n",
    "    def __init__(self, value, suit):\n",
    "        self.value = value\n",
    "        self.suit = suit\n",
    "\n",
    "    def get_value(self):\n",
    "        return self.value\n",
    "\n",
    "class Deck:\n",
    "    def __init__(self):\n",
    "        self.cards = list()\n",
    "        self.build()\n",
    "        self.size = 52\n",
    "\n",
    "    def build(self):\n",
    "        # suits\n",
    "        for suit in ['Diamonds', 'Hearts', 'Spades', 'Clubs']:\n",
    "            # values\n",
    "            for val in ['2', '3', '4', '5', '6', '7', '8', '9', '10', 'Jack', 'Queen', 'King', 'Ace']:\n",
    "                self.cards.append(Card(value, suit))\n",
    "                \n",
    "    def shuffle(self):\n",
    "        #This shuffling method iterates through the 52 cards and swaps each with a random card\n",
    "        for i in range(51, 0, -1):\n",
    "            x = random.randint(0, i)\n",
    "            self.cards[i], self.cards[x] = self.cards[x], self.cards[i]\n",
    "    \n",
    "    def draw_card(self):\n",
    "        return self.cards.pop()\n",
    "\n",
    "def getCards():\n",
    "    deck = Deck()\n",
    "    deck.shuffle()\n",
    "    l = list()\n",
    "    for i in range(5):\n",
    "        l.append(deck.draw_card())\n",
    "    return l\n",
    "\n"
   ]
  },
  {
   "cell_type": "markdown",
   "metadata": {},
   "source": [
    "**Part C**: Run the `getCards()` simulation 10000 times, and store the result in an array named `card_array`."
   ]
  },
  {
   "cell_type": "code",
   "execution_count": 354,
   "metadata": {},
   "outputs": [],
   "source": [
    "card_array = [getCards() for i in range(10000)]"
   ]
  },
  {
   "cell_type": "markdown",
   "metadata": {},
   "source": [
    "**Part D**: Write a function `pair(card_array, num_sim)` For the 10000 simulations we did in Part C, what is the probability of have Pair? Does the result agree with your calculation in Part A?"
   ]
  },
  {
   "cell_type": "code",
   "execution_count": 358,
   "metadata": {},
   "outputs": [
    {
     "name": "stdout",
     "output_type": "stream",
     "text": [
      "The probability of getting a 5 card hand with at least a pair is  0.4918 which is relatively close to the answer we got in part A, 0.4701\n"
     ]
    }
   ],
   "source": [
    "#helper function to return list of current cards\n",
    "def getValues(hand):\n",
    "    l = list()\n",
    "    for card in hand:\n",
    "        l.append(card.value)\n",
    "    return l\n",
    "\n",
    "def pair(hands, num_trials):\n",
    "    num_success = 0\n",
    "    for hand in hands:\n",
    "        gto=False\n",
    "        values = getValues(hand)\n",
    "        d = {i: values.count(i) for i in values}\n",
    "        for key, value in d.items():\n",
    "            if value > 1: \n",
    "                gto=True\n",
    "        if gto:\n",
    "            num_success += 1\n",
    "    return num_success/num_trials\n",
    "\n",
    "print(\"The probability of getting a 5 card hand with at least a pair is \",pair(card_array, 10000),\"which is relatively close to the answer we got in part A, 0.4701\")"
   ]
  },
  {
   "cell_type": "markdown",
   "metadata": {},
   "source": [
    "**Part E:** Write a function `fullhouse(card_array, num_sim)` For the 10000 simulations we did in Part C, what is the probability of having a Full House? Does the result agree with your calculation in Part A?"
   ]
  },
  {
   "cell_type": "code",
   "execution_count": 359,
   "metadata": {},
   "outputs": [
    {
     "name": "stdout",
     "output_type": "stream",
     "text": [
      "The probability of choosing a 5 card hand that is a fullhouse is  0.0015 which is relatively close to the answer we got in part A, 0.00144\n"
     ]
    }
   ],
   "source": [
    "def fullhouse(hands, num_trials):\n",
    "    num_success = 0\n",
    "    for hand in hands:\n",
    "        values = getValues(hand)\n",
    "        d = {i: values.count(i) for i in values}\n",
    "        pair = False\n",
    "        triple = False\n",
    "        for key, value in d.items():\n",
    "            if value == 2:\n",
    "                pair = True\n",
    "            if value == 3:\n",
    "                triple = True\n",
    "        if pair & triple:\n",
    "            num_success += 1\n",
    "    return num_success/num_trials\n",
    "\n",
    "print(\"The probability of choosing a 5 card hand that is a fullhouse is \",fullhouse(card_array, 10000),\"which is relatively close to the answer we got in part A, 0.00144\")"
   ]
  },
  {
   "cell_type": "code",
   "execution_count": null,
   "metadata": {},
   "outputs": [],
   "source": []
  },
  {
   "cell_type": "code",
   "execution_count": null,
   "metadata": {},
   "outputs": [],
   "source": []
  }
 ],
 "metadata": {
  "kernelspec": {
   "display_name": "Python 3",
   "language": "python",
   "name": "python3"
  },
  "language_info": {
   "codemirror_mode": {
    "name": "ipython",
    "version": 3
   },
   "file_extension": ".py",
   "mimetype": "text/x-python",
   "name": "python",
   "nbconvert_exporter": "python",
   "pygments_lexer": "ipython3",
   "version": "3.7.3"
  }
 },
 "nbformat": 4,
 "nbformat_minor": 2
}
